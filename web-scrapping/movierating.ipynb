{
 "cells": [
  {
   "cell_type": "code",
   "execution_count": 3,
   "metadata": {},
   "outputs": [],
   "source": [
    "from urllib.request import urlopen"
   ]
  },
  {
   "cell_type": "code",
   "execution_count": 4,
   "metadata": {
    "collapsed": true
   },
   "outputs": [],
   "source": [
    "from bs4 import BeautifulSoup"
   ]
  },
  {
   "cell_type": "code",
   "execution_count": 5,
   "metadata": {
    "collapsed": true
   },
   "outputs": [],
   "source": [
    "html=urlopen(\"http://www.imdb.com/search/title?groups=top_250&sort=user_rating\")"
   ]
  },
  {
   "cell_type": "code",
   "execution_count": 6,
   "metadata": {
    "collapsed": true
   },
   "outputs": [],
   "source": [
    "soup = BeautifulSoup(html, 'html.parser')"
   ]
  },
  {
   "cell_type": "code",
   "execution_count": 8,
   "metadata": {},
   "outputs": [
    {
     "name": "stdout",
     "output_type": "stream",
     "text": [
      "b'The Shawshank Redemption'\n",
      "b'The Godfather'\n",
      "b'The Dark Knight'\n",
      "b'The Godfather: Part II'\n",
      "b'Pulp Fiction'\n",
      "b\"Schindler's List\"\n",
      "b'The Lord of the Rings: The Return of the King'\n",
      "b'12 Angry Men'\n",
      "b'Il buono, il brutto, il cattivo'\n",
      "b'Inception'\n",
      "b'The Lord of the Rings: The Fellowship of the Ring'\n",
      "b'Forrest Gump'\n",
      "b'Star Wars: Episode V - The Empire Strikes Back'\n",
      "b'Fight Club'\n",
      "b'Coco'\n",
      "b'Star Wars'\n",
      "b'Goodfellas'\n",
      "b'The Matrix'\n",
      "b'The Lord of the Rings: The Two Towers'\n",
      "b\"One Flew Over the Cuckoo's Nest\"\n",
      "b'Shichinin no samurai'\n",
      "b'Interstellar'\n",
      "b'L\\xc3\\xa9on'\n",
      "b'The Silence of the Lambs'\n",
      "b'Se7en'\n",
      "b'Saving Private Ryan'\n",
      "b'The Usual Suspects'\n",
      "b'Cidade de Deus'\n",
      "b'Sen to Chihiro no kamikakushi'\n",
      "b'The Intouchables'\n",
      "b'La vita \\xc3\\xa8 bella'\n",
      "b\"It's a Wonderful Life\"\n",
      "b'Dangal'\n",
      "b'City Lights'\n",
      "b'The Lion King'\n",
      "b'Back to the Future'\n",
      "b'Gladiator'\n",
      "b'The Prestige'\n",
      "b'Whiplash'\n",
      "b'Kimi no na wa.'\n",
      "b'The Departed'\n",
      "b'The Green Mile'\n",
      "b'Raiders of the Lost Ark'\n",
      "b'Apocalypse Now'\n",
      "b'Memento'\n",
      "b'Alien'\n",
      "b'American History X'\n",
      "b'Psycho'\n",
      "b'Terminator 2: Judgment Day'\n",
      "b'The Pianist'\n"
     ]
    }
   ],
   "source": [
    "movie_name = []\n",
    "nameList = soup.findAll('img')\n",
    "\n",
    "for i in nameList[2:]:\n",
    "    if i.get('alt') is None:\n",
    "        continue\n",
    "    else:\n",
    "        movie_name.append((i.get('alt')).encode(\"utf-8\"))\n",
    "\n",
    "for i in movie_name:\n",
    "    print (i)"
   ]
  },
  {
   "cell_type": "code",
   "execution_count": 9,
   "metadata": {
    "collapsed": true
   },
   "outputs": [],
   "source": [
    "rating=soup.findAll('strong')\n"
   ]
  },
  {
   "cell_type": "code",
   "execution_count": 11,
   "metadata": {},
   "outputs": [
    {
     "name": "stdout",
     "output_type": "stream",
     "text": [
      "246.0\n",
      "9.3\n",
      "9.2\n",
      "9.0\n",
      "9.0\n",
      "8.9\n",
      "8.9\n",
      "8.9\n",
      "8.9\n",
      "8.9\n",
      "8.8\n",
      "8.8\n",
      "8.8\n",
      "8.8\n",
      "8.8\n",
      "8.7\n",
      "8.7\n",
      "8.7\n",
      "8.7\n",
      "8.7\n",
      "8.7\n",
      "8.7\n",
      "8.6\n",
      "8.6\n",
      "8.6\n",
      "8.6\n",
      "8.6\n",
      "8.6\n",
      "8.6\n",
      "8.6\n",
      "8.6\n",
      "8.6\n",
      "8.6\n",
      "8.6\n",
      "8.6\n",
      "8.5\n",
      "8.5\n",
      "8.5\n",
      "8.5\n",
      "8.5\n",
      "8.5\n",
      "8.5\n",
      "8.5\n",
      "8.5\n",
      "8.5\n",
      "8.5\n",
      "8.5\n",
      "8.5\n",
      "8.5\n",
      "8.5\n",
      "8.5\n"
     ]
    }
   ],
   "source": [
    "rate=[]\n",
    "for i in rating[2:]:\n",
    "    try:    \n",
    "        rate.append(float(i.getText()))\n",
    "    except:\n",
    "        continue\n",
    "\n",
    "for i in rate:\n",
    "    print (i)\n",
    "    "
   ]
  },
  {
   "cell_type": "code",
   "execution_count": 15,
   "metadata": {},
   "outputs": [
    {
     "name": "stdout",
     "output_type": "stream",
     "text": [
      "51\n",
      "50\n"
     ]
    }
   ],
   "source": [
    "print (len(rate))\n",
    "print (len(movie_name))\n",
    "\n",
    "data = zip(movie_name,rate[1:])\n"
   ]
  },
  {
   "cell_type": "code",
   "execution_count": 16,
   "metadata": {
    "collapsed": true
   },
   "outputs": [],
   "source": [
    "import csv"
   ]
  },
  {
   "cell_type": "code",
   "execution_count": 17,
   "metadata": {
    "collapsed": true
   },
   "outputs": [],
   "source": [
    "myFile = open('imdb.csv', 'w')"
   ]
  },
  {
   "cell_type": "code",
   "execution_count": 18,
   "metadata": {
    "collapsed": true
   },
   "outputs": [],
   "source": [
    "with myFile:  \n",
    "   writer = csv.writer(myFile)\n",
    "   writer.writerows(data)"
   ]
  },
  {
   "cell_type": "code",
   "execution_count": null,
   "metadata": {
    "collapsed": true
   },
   "outputs": [],
   "source": []
  }
 ],
 "metadata": {
  "kernelspec": {
   "display_name": "Python 3",
   "language": "python",
   "name": "python3"
  },
  "language_info": {
   "codemirror_mode": {
    "name": "ipython",
    "version": 3
   },
   "file_extension": ".py",
   "mimetype": "text/x-python",
   "name": "python",
   "nbconvert_exporter": "python",
   "pygments_lexer": "ipython3",
   "version": "3.6.3"
  }
 },
 "nbformat": 4,
 "nbformat_minor": 2
}
